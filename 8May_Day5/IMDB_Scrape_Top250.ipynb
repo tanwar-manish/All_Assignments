{
 "cells": [
  {
   "cell_type": "code",
   "execution_count": 2,
   "id": "40b2a833",
   "metadata": {},
   "outputs": [
    {
     "name": "stdout",
     "output_type": "stream",
     "text": [
      "200\n",
      "[('1. The Shawshank Redemption', 'IMDb rating: 9.3', '1994'), ('2. The Godfather', 'IMDb rating: 9.2', '1972'), ('3. The Dark Knight', 'IMDb rating: 9.0', '2008'), ('4. The Godfather: Part II', 'IMDb rating: 9.0', '1974'), ('5. 12 Angry Men', 'IMDb rating: 9.0', '1957'), (\"6. Schindler's List\", 'IMDb rating: 9.0', '1993'), ('7. The Lord of the Rings: The Return of the King', 'IMDb rating: 9.0', '2003'), ('8. Pulp Fiction', 'IMDb rating: 8.9', '1994'), ('9. The Lord of the Rings: The Fellowship of the Ring', 'IMDb rating: 8.9', '2001'), ('10. Il Buono, Il Brutto, Il Cattivo', 'IMDb rating: 8.8', '1966'), ('11. Forrest Gump', 'IMDb rating: 8.8', '1994'), ('12. The Lord of the Rings: The Two Towers', 'IMDb rating: 8.8', '2002'), ('13. Fight Club', 'IMDb rating: 8.8', '1999'), ('14. Inception', 'IMDb rating: 8.8', '2010'), ('15. Star Wars: Episode V - The Empire Strikes Back', 'IMDb rating: 8.7', '1980'), ('16. The Matrix', 'IMDb rating: 8.7', '1999'), ('17. GoodFellas', 'IMDb rating: 8.7', '1990'), (\"18. One Flew Over the Cuckoo's Nest\", 'IMDb rating: 8.7', '1975'), ('19. Se7en', 'IMDb rating: 8.6', '1995'), ('20. Interstellar', 'IMDb rating: 8.7', '2014'), (\"21. It's a Wonderful Life\", 'IMDb rating: 8.6', '1946'), ('22. Shichinin No Samurai', 'IMDb rating: 8.6', '1954'), ('23. The Silence of the Lambs', 'IMDb rating: 8.6', '1991'), ('24. Saving Private Ryan', 'IMDb rating: 8.6', '1998'), ('25. City of God', 'IMDb rating: 8.6', '2002'), ('26. Life Is Beautiful', 'IMDb rating: 8.6', '1997'), ('27. The Green Mile', 'IMDb rating: 8.6', '1999'), ('28. Dune: Part Two', 'IMDb rating: 8.6', '2024'), ('29. Terminator 2: Judgment Day', 'IMDb rating: 8.6', '1991'), ('30. Star Wars: Episode IV - A New Hope', 'IMDb rating: 8.6', '1977'), ('31. Back to the Future', 'IMDb rating: 8.5', '1985'), ('32. Spirited Away', 'IMDb rating: 8.6', '2001'), ('33. The Pianist', 'IMDb rating: 8.5', '2002'), ('34. Parasite', 'IMDb rating: 8.5', '2019'), ('35. Psycho', 'IMDb rating: 8.5', '1960'), ('36. Gladiator', 'IMDb rating: 8.5', '2000'), ('37. Spider-man: Across the Spider-verse', 'IMDb rating: 8.6', '2023'), ('38. The Lion King', 'IMDb rating: 8.5', '1994'), ('39. The Departed', 'IMDb rating: 8.5', '2006'), ('40. Léon', 'IMDb rating: 8.5', '1994'), ('41. American History X', 'IMDb rating: 8.5', '1998'), ('42. Whiplash', 'IMDb rating: 8.5', '2014'), ('43. The Prestige', 'IMDb rating: 8.5', '2006'), ('44. Grave of the Fireflies', 'IMDb rating: 8.5', '1988'), ('45. Seppuku', 'IMDb rating: 8.6', '1962'), ('46. The Usual Suspects', 'IMDb rating: 8.5', '1995'), ('47. Casablanca', 'IMDb rating: 8.5', '1942'), ('48. Intouchables', 'IMDb rating: 8.5', '2011'), ('49. Cinema Paradiso', 'IMDb rating: 8.5', '1988'), ('50. Modern Times', 'IMDb rating: 8.5', '1936'), ('51. Rear Window', 'IMDb rating: 8.5', '1954'), (\"52. C'era Una Volta Il West\", 'IMDb rating: 8.5', '1968'), ('53. Alien', 'IMDb rating: 8.5', '1979'), ('54. City Lights', 'IMDb rating: 8.5', '1931'), ('55. Django Unchained', 'IMDb rating: 8.5', '2012'), ('56. Apocalypse Now', 'IMDb rating: 8.4', '1979'), ('57. Memento', 'IMDb rating: 8.4', '2000'), ('58. 12th Fail', 'IMDb rating: 8.9', '2023'), ('59. WALL·E', 'IMDb rating: 8.4', '2008'), ('60. Raiders of the Lost Ark', 'IMDb rating: 8.4', '1981'), ('61. Das Leben der Anderen', 'IMDb rating: 8.4', '2006'), ('62. Sunset Blvd.', 'IMDb rating: 8.4', '1950'), ('63. Avengers: Infinity War', 'IMDb rating: 8.4', '2018'), ('64. Paths of Glory', 'IMDb rating: 8.4', '1957'), ('65. Spider-Man: Into the Spider-Verse', 'IMDb rating: 8.4', '2018'), ('66. Witness for the Prosecution', 'IMDb rating: 8.4', '1957'), ('67. The Shining', 'IMDb rating: 8.4', '1980'), ('68. The Great Dictator', 'IMDb rating: 8.4', '1940'), ('69. Alien 2', 'IMDb rating: 8.4', '1986'), ('70. Inglourious Basterds', 'IMDb rating: 8.4', '2009'), ('71. The Dark Knight Rises', 'IMDb rating: 8.4', '2012'), ('72. Dr. Strangelove or: How I Learned to Stop Worrying and Love the Bomb', 'IMDb rating: 8.3', '1964'), ('73. Coco', 'IMDb rating: 8.4', '2017'), ('74. American Beauty', 'IMDb rating: 8.3', '1999'), ('75. Oldeuboi', 'IMDb rating: 8.3', '2003'), ('76. Amadeus', 'IMDb rating: 8.4', '1984'), ('77. Toy Story', 'IMDb rating: 8.3', '1995'), ('78. Avengers: Endgame', 'IMDb rating: 8.4', '2019'), ('79. Das Boot', 'IMDb rating: 8.4', '1981'), ('80. Braveheart', 'IMDb rating: 8.3', '1995'), ('81. Good Will Hunting', 'IMDb rating: 8.3', '1997'), ('82. Mononoke-hime', 'IMDb rating: 8.3', '1997'), ('83. Joker', 'IMDb rating: 8.4', '2019'), ('84. Kimi No Na Wa.', 'IMDb rating: 8.4', '2016'), ('85. Tengoku to Jigoku', 'IMDb rating: 8.4', '1963'), ('86. Once Upon a Time in America', 'IMDb rating: 8.3', '1984'), ('87. 3 Idiots', 'IMDb rating: 8.4', '2009'), (\"88. Singin' in the Rain\", 'IMDb rating: 8.3', '1952'), ('89. Capharnaüm', 'IMDb rating: 8.4', '2018'), ('90. Idi I Smotri', 'IMDb rating: 8.4', '1985'), ('91. Requiem for a Dream', 'IMDb rating: 8.3', '2000'), ('92. Toy Story 3', 'IMDb rating: 8.3', '2010'), ('93. Star Wars: Episode VI - Return of the Jedi', 'IMDb rating: 8.3', '1983'), ('94. Eternal Sunshine of the Spotless Mind', 'IMDb rating: 8.3', '2004'), ('95. Jagten', 'IMDb rating: 8.3', '2012'), ('96. 2001: A Space Odyssey', 'IMDb rating: 8.3', '1968'), ('97. Oppenheimer', 'IMDb rating: 8.3', '2023'), ('98. Reservoir Dogs', 'IMDb rating: 8.3', '1992'), ('99. Ikiru', 'IMDb rating: 8.3', '1952'), ('100. Lawrence of Arabia', 'IMDb rating: 8.3', '1962'), ('101. The Apartment', 'IMDb rating: 8.3', '1960'), ('102. Incendies', 'IMDb rating: 8.3', '2010'), ('103. North by Northwest', 'IMDb rating: 8.3', '1959'), ('104. Citizen Kane', 'IMDb rating: 8.3', '1941'), ('105. M - Eine Stadt sucht einen Mörder', 'IMDb rating: 8.3', '1931'), ('106. Double Indemnity', 'IMDb rating: 8.3', '1944'), ('107. Scarface', 'IMDb rating: 8.3', '1983'), ('108. Vertigo', 'IMDb rating: 8.3', '1958'), (\"109. Le fabuleux destin d'Amélie Poulain\", 'IMDb rating: 8.3', '2001'), ('110. Full Metal Jacket', 'IMDb rating: 8.3', '1987'), ('111. Heat', 'IMDb rating: 8.3', '1995'), ('112. A Clockwork Orange', 'IMDb rating: 8.3', '1971'), ('113. Up', 'IMDb rating: 8.3', '2009'), ('114. To Kill a Mockingbird', 'IMDb rating: 8.3', '1962'), ('115. Jodaeiye Nader Az Simin', 'IMDb rating: 8.3', '2011'), ('116. The Sting', 'IMDb rating: 8.3', '1973'), ('117. Indiana Jones and the Last Crusade', 'IMDb rating: 8.2', '1989'), ('118. Die Hard', 'IMDb rating: 8.2', '1988'), ('119. Taare Zameen Par', 'IMDb rating: 8.3', '2007'), ('120. Metropolis', 'IMDb rating: 8.3', '1927'), ('121. Snatch', 'IMDb rating: 8.2', '2000'), ('122. Hamilton', 'IMDb rating: 8.3', '2020'), ('123. L.A. Confidential', 'IMDb rating: 8.2', '1997'), ('124. 1917', 'IMDb rating: 8.2', '2019'), ('125. Ladri Di Biciclette', 'IMDb rating: 8.3', '1948'), ('126. Taxi Driver', 'IMDb rating: 8.2', '1976'), ('127. Der Untergang', 'IMDb rating: 8.2', '2004'), ('128. Dangal', 'IMDb rating: 8.3', '2016'), ('129. Batman Begins', 'IMDb rating: 8.2', '2005'), ('130. Per qualche dollaro in più', 'IMDb rating: 8.2', '1965'), ('131. The Wolf of Wall Street', 'IMDb rating: 8.2', '2013'), ('132. Some Like It Hot', 'IMDb rating: 8.2', '1959'), ('133. Green Book', 'IMDb rating: 8.2', '2018'), ('134. The Kid', 'IMDb rating: 8.2', '1921'), ('135. The Father', 'IMDb rating: 8.2', '2020'), ('136. Judgment at Nuremberg', 'IMDb rating: 8.3', '1961'), ('137. The Truman Show', 'IMDb rating: 8.2', '1998'), ('138. All About Eve', 'IMDb rating: 8.2', '1950'), ('139. Top Gun: Maverick', 'IMDb rating: 8.2', '2022'), ('140. Shutter Island', 'IMDb rating: 8.2', '2010'), ('141. There Will Be Blood', 'IMDb rating: 8.2', '2007'), ('142. Casino', 'IMDb rating: 8.2', '1995'), ('143. Jurassic Park', 'IMDb rating: 8.2', '1993'), ('144. Ran', 'IMDb rating: 8.2', '1985'), ('145. The Sixth Sense', 'IMDb rating: 8.2', '1999'), ('146. El Laberinto Del Fauno', 'IMDb rating: 8.2', '2006'), ('147. Unforgiven', 'IMDb rating: 8.2', '1992'), ('148. No Country for Old Men', 'IMDb rating: 8.2', '2007'), ('149. A Beautiful Mind', 'IMDb rating: 8.2', '2001'), ('150. The Thing', 'IMDb rating: 8.2', '1982'), ('151. Kill Bill: Vol. 1', 'IMDb rating: 8.2', '2003'), ('152. The Treasure of the Sierra Madre', 'IMDb rating: 8.2', '1948'), ('153. Yojimbo', 'IMDb rating: 8.2', '1961'), ('154. Monty Python and the Holy Grail', 'IMDb rating: 8.2', '1975'), ('155. The Great Escape', 'IMDb rating: 8.2', '1963'), ('156. Finding Nemo', 'IMDb rating: 8.2', '2003'), ('157. Prisoners', 'IMDb rating: 8.2', '2013'), ('158. Rashōmon', 'IMDb rating: 8.2', '1950'), ('159. Hauru No Ugoku Shiro', 'IMDb rating: 8.2', '2004'), ('160. The Elephant Man', 'IMDb rating: 8.2', '1980'), ('161. Chinatown', 'IMDb rating: 8.1', '1974'), ('162. Dial M for Murder', 'IMDb rating: 8.2', '1954'), ('163. Gone with the Wind', 'IMDb rating: 8.2', '1939'), ('164. V for Vendetta', 'IMDb rating: 8.2', '2005'), ('165. Lock, Stock and Two Smoking Barrels', 'IMDb rating: 8.1', '1998'), ('166. El Secreto De Sus Ojos', 'IMDb rating: 8.2', '2009'), ('167. Inside Out', 'IMDb rating: 8.1', '2015'), ('168. Raging Bull', 'IMDb rating: 8.1', '1980'), ('169. Three Billboards Outside Ebbing, Missouri', 'IMDb rating: 8.1', '2017'), ('170. Trainspotting', 'IMDb rating: 8.1', '1996'), ('171. The Bridge on the River Kwai', 'IMDb rating: 8.1', '1957'), ('172. Klaus', 'IMDb rating: 8.2', '2019'), ('173. Fargo', 'IMDb rating: 8.1', '1996'), ('174. Spider-Man: No Way Home', 'IMDb rating: 8.2', '2021'), ('175. Catch Me If You Can', 'IMDb rating: 8.1', '2002'), ('176. Warrior', 'IMDb rating: 8.1', '2011'), ('177. Gran Torino', 'IMDb rating: 8.1', '2008'), ('178. My Neighbour Totoro', 'IMDb rating: 8.1', '1988'), ('179. Million Dollar Baby', 'IMDb rating: 8.1', '2004'), ('180. Harry Potter and the Deathly Hallows: Part 2', 'IMDb rating: 8.1', '2011'), ('181. Bacheha-Ye Aseman', 'IMDb rating: 8.2', '1997'), ('182. 12 Years a Slave', 'IMDb rating: 8.1', '2013'), ('183. Blade Runner', 'IMDb rating: 8.1', '1982'), ('184. Ben-Hur', 'IMDb rating: 8.1', '1959'), ('185. Before Sunrise', 'IMDb rating: 8.1', '1995'), ('186. The Grand Budapest Hotel', 'IMDb rating: 8.1', '2014'), ('187. Barry Lyndon', 'IMDb rating: 8.1', '1975'), ('188. Gone Girl', 'IMDb rating: 8.1', '2014'), ('189. Hacksaw Ridge', 'IMDb rating: 8.1', '2016'), ('190. The Gold Rush', 'IMDb rating: 8.1', '1925'), ('191. Mad Max: Fury Road', 'IMDb rating: 8.1', '2015'), ('192. Salinui Chueok', 'IMDb rating: 8.1', '2003'), ('193. In the Name of the Father', 'IMDb rating: 8.1', '1993'), ('194. Dead Poets Society', 'IMDb rating: 8.1', '1989'), ('195. Relatos Salvajes', 'IMDb rating: 8.1', '2014'), ('196. The Deer Hunter', 'IMDb rating: 8.1', '1978'), ('197. The General', 'IMDb rating: 8.1', '1926'), ('198. Monsters, Inc.', 'IMDb rating: 8.1', '2001'), ('199. On the Waterfront', 'IMDb rating: 8.1', '1954'), ('200. Sherlock Jr.', 'IMDb rating: 8.2', '1924'), ('201. How to Train Your Dragon', 'IMDb rating: 8.1', '2010'), ('202. Jaws', 'IMDb rating: 8.1', '1975'), ('203. The Third Man', 'IMDb rating: 8.1', '1949'), ('204. Le Salaire De La Peur', 'IMDb rating: 8.2', '1953'), ('205. Mary and Max', 'IMDb rating: 8.1', '2009'), ('206. Smultronstället', 'IMDb rating: 8.1', '1957'), ('207. Mr. Smith Goes to Washington', 'IMDb rating: 8.1', '1939'), ('208. Ratatouille', 'IMDb rating: 8.1', '2007'), ('209. Ford v. Ferrari', 'IMDb rating: 8.1', '2019'), ('210. Tokyo Story', 'IMDb rating: 8.1', '1953'), ('211. The Big Lebowski', 'IMDb rating: 8.1', '1998'), ('212. Room', 'IMDb rating: 8.1', '2015'), ('213. Det Sjunde Inseglet', 'IMDb rating: 8.1', '1957'), ('214. Rocky', 'IMDb rating: 8.1', '1976'), ('215. Logan', 'IMDb rating: 8.1', '2017'), ('216. Spotlight', 'IMDb rating: 8.1', '2015'), ('217. Hotel Rwanda', 'IMDb rating: 8.1', '2004'), ('218. The Terminator', 'IMDb rating: 8.1', '1984'), ('219. Platoon', 'IMDb rating: 8.1', '1986'), (\"220. La passion de Jeanne d'Arc\", 'IMDb rating: 8.1', '1928'), ('221. La haine', 'IMDb rating: 8.1', '1995'), ('222. Before Sunset', 'IMDb rating: 8.1', '2004'), ('223. The Best Years of Our Lives', 'IMDb rating: 8.1', '1946'), ('224. Pirates of the Caribbean: The Curse of the Black Pearl', 'IMDb rating: 8.1', '2003'), ('225. The Exorcist', 'IMDb rating: 8.1', '1973'), ('226. Jai Bhim', 'IMDb rating: 8.7', '2021'), ('227. Rush', 'IMDb rating: 8.1', '2013'), ('228. Network', 'IMDb rating: 8.1', '1976'), ('229. The Wizard of Oz', 'IMDb rating: 8.1', '1939'), ('230. Stand by Me', 'IMDb rating: 8.1', '1986'), ('231. The Incredibles', 'IMDb rating: 8.0', '2004'), (\"232. Hachi: A Dog's Tale\", 'IMDb rating: 8.1', '2009'), ('233. My Father and My Son', 'IMDb rating: 8.2', '2005'), ('234. Ah-ga-ssi', 'IMDb rating: 8.1', '2016'), ('235. Into the Wild', 'IMDb rating: 8.1', '2007'), ('236. The Sound of Music', 'IMDb rating: 8.1', '1965'), ('237. To Be or Not to Be', 'IMDb rating: 8.1', '1942'), ('238. La battaglia di Algeri', 'IMDb rating: 8.1', '1966'), ('239. Groundhog Day', 'IMDb rating: 8.0', '1993'), ('240. The Grapes of Wrath', 'IMDb rating: 8.1', '1940'), ('241. Amores perros', 'IMDb rating: 8.1', '2000'), ('242. The Iron Giant', 'IMDb rating: 8.1', '1999'), ('243. Rebecca', 'IMDb rating: 8.1', '1940'), ('244. Cool Hand Luke', 'IMDb rating: 8.1', '1967'), ('245. The Help', 'IMDb rating: 8.1', '2011'), ('246. It Happened One Night', 'IMDb rating: 8.1', '1934'), ('247. Drishyam', 'IMDb rating: 8.2', '2015'), ('248. Dances with Wolves', 'IMDb rating: 8.0', '1990'), ('249. Aladdin', 'IMDb rating: 8.0', '1992'), ('250. Gangs of Wasseypur', 'IMDb rating: 8.2', '2012')]\n"
     ]
    }
   ],
   "source": [
    "import requests\n",
    "from bs4 import BeautifulSoup\n",
    "import csv\n",
    "\n",
    "USER_AGENT = 'Mozilla/5.0 (X11; Linux x86_64) AppleWebKit/537.36 (KHTML, like Gecko) Chrome/51.0.2704.103 Safari/537.36'\n",
    "\n",
    "try: \n",
    "    headers = {'user-agent': USER_AGENT}\n",
    "    source = requests.get(\"https://www.imdb.com/chart/top/\", headers=headers)\n",
    "    print(source.status_code)  \n",
    "\n",
    "    soup = BeautifulSoup(source.text, 'html.parser')\n",
    "\n",
    "    movies = soup.find('ul', class_=\"ipc-metadata-list ipc-metadata-list--dividers-between sc-a1e81754-0 eBRbsI compact-list-view ipc-metadata-list--base\").find_all('li')\n",
    "    result = []\n",
    "    for movie in movies:\n",
    "        name = movie.find('div', class_=\"ipc-title ipc-title--base ipc-title--title ipc-title-link-no-icon ipc-title--on-textPrimary sc-b189961a-9 iALATN cli-title\").a.text\n",
    "        rank = movie.find('span', class_=\"ipc-rating-star ipc-rating-star--base ipc-rating-star--imdb ratingGroup--imdb-rating\")\n",
    "        year = movie.find('span', class_=\"sc-b189961a-8 kLaxqf cli-title-metadata-item\").text\n",
    "        result.append((name, rank.attrs['aria-label'], year))\n",
    "\n",
    "    print(result)\n",
    "\n",
    "    # Save results to a CSV file\n",
    "    with open('imdb_top250_movies.csv', mode='w', newline='', encoding='utf-8') as file:\n",
    "        writer = csv.writer(file)\n",
    "        writer.writerow(['Name', 'Rating', 'Year'])\n",
    "        writer.writerows(result)\n",
    "\n",
    "except Exception as e:\n",
    "    print(e)\n"
   ]
  },
  {
   "cell_type": "code",
   "execution_count": null,
   "id": "cdd9db71",
   "metadata": {},
   "outputs": [],
   "source": []
  }
 ],
 "metadata": {
  "kernelspec": {
   "display_name": "Python 3 (ipykernel)",
   "language": "python",
   "name": "python3"
  },
  "language_info": {
   "codemirror_mode": {
    "name": "ipython",
    "version": 3
   },
   "file_extension": ".py",
   "mimetype": "text/x-python",
   "name": "python",
   "nbconvert_exporter": "python",
   "pygments_lexer": "ipython3",
   "version": "3.9.13"
  }
 },
 "nbformat": 4,
 "nbformat_minor": 5
}
